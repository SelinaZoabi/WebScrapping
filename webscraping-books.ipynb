{
 "cells": [
  {
   "cell_type": "markdown",
   "metadata": {},
   "source": [
    "# Webscraping"
   ]
  },
  {
   "cell_type": "code",
   "execution_count": 1,
   "metadata": {},
   "outputs": [],
   "source": [
    "from selenium import webdriver\n",
    "from selenium.webdriver.common.by import By\n",
    "from selenium.webdriver.common.keys import Keys\n",
    "from selenium.webdriver.support.ui import WebDriverWait\n",
    "from selenium.webdriver.support import expected_conditions as EC\n",
    "from bs4 import BeautifulSoup\n",
    "import pandas as pd\n",
    "import matplotlib.pyplot as plt\n",
    "import seaborn as sns\n",
    "import time"
   ]
  },
  {
   "cell_type": "code",
   "execution_count": 2,
   "metadata": {},
   "outputs": [],
   "source": [
    "driver = webdriver.Chrome() "
   ]
  },
  {
   "cell_type": "code",
   "execution_count": 3,
   "metadata": {},
   "outputs": [],
   "source": [
    "base_url = \"https://books.toscrape.com/catalogue/page-{}.html\""
   ]
  },
  {
   "cell_type": "code",
   "execution_count": 4,
   "metadata": {},
   "outputs": [],
   "source": [
    "#loop through the pages\n",
    "for p in range(1, 51):\n",
    "    url = f'https://books.toscrape.com/catalogue/page-{p}.html'"
   ]
  },
  {
   "cell_type": "code",
   "execution_count": 5,
   "metadata": {},
   "outputs": [],
   "source": [
    "driver.get(url)"
   ]
  },
  {
   "cell_type": "code",
   "execution_count": 6,
   "metadata": {},
   "outputs": [],
   "source": [
    "time.sleep(5)"
   ]
  },
  {
   "cell_type": "code",
   "execution_count": 7,
   "metadata": {},
   "outputs": [],
   "source": [
    "soup = BeautifulSoup(driver.page_source, 'html.parser')"
   ]
  },
  {
   "cell_type": "code",
   "execution_count": 8,
   "metadata": {},
   "outputs": [],
   "source": [
    "books_find = soup.find_all('article', class_='product_pod')"
   ]
  },
  {
   "cell_type": "code",
   "execution_count": 9,
   "metadata": {},
   "outputs": [],
   "source": [
    "books = []\n",
    "for book in books_find:\n",
    "    title = book.h3.a['title']\n",
    "\n",
    "    price = book.find('p', class_='price_color')\n",
    "    price = price.text.strip() if price else 'N/A'\n",
    "\n",
    "    rating = book.find('p', class_='star-rating')\n",
    "    rating = rating['class'][1] if rating else 'N/A'  # e.g. \"Three\"\n",
    "\n",
    "    availability = book.find('p', class_='instock availability')\n",
    "    availability = availability.text.strip() if availability else 'N/A'\n",
    "\n",
    "    link = book.h3.a['href']\n",
    "    link = 'https://books.toscrape.com/catalogue/' + link\n",
    "    \n",
    "    books.append({\n",
    "        'Title': title,\n",
    "        'Price': price,\n",
    "        'Rating': rating,\n",
    "        'Availability': availability,\n",
    "        'Link': link\n",
    "        })"
   ]
  },
  {
   "cell_type": "code",
   "execution_count": 10,
   "metadata": {},
   "outputs": [
    {
     "data": {
      "text/plain": [
       "(20, 5)"
      ]
     },
     "execution_count": 10,
     "metadata": {},
     "output_type": "execute_result"
    }
   ],
   "source": [
    "df = pd.DataFrame(books)\n",
    "df.shape"
   ]
  },
  {
   "cell_type": "code",
   "execution_count": 11,
   "metadata": {},
   "outputs": [],
   "source": [
    "driver.quit()"
   ]
  },
  {
   "cell_type": "code",
   "execution_count": 12,
   "metadata": {},
   "outputs": [
    {
     "data": {
      "text/html": [
       "<div>\n",
       "<style scoped>\n",
       "    .dataframe tbody tr th:only-of-type {\n",
       "        vertical-align: middle;\n",
       "    }\n",
       "\n",
       "    .dataframe tbody tr th {\n",
       "        vertical-align: top;\n",
       "    }\n",
       "\n",
       "    .dataframe thead th {\n",
       "        text-align: right;\n",
       "    }\n",
       "</style>\n",
       "<table border=\"1\" class=\"dataframe\">\n",
       "  <thead>\n",
       "    <tr style=\"text-align: right;\">\n",
       "      <th></th>\n",
       "      <th>Title</th>\n",
       "      <th>Price</th>\n",
       "      <th>Rating</th>\n",
       "      <th>Availability</th>\n",
       "      <th>Link</th>\n",
       "    </tr>\n",
       "  </thead>\n",
       "  <tbody>\n",
       "    <tr>\n",
       "      <th>0</th>\n",
       "      <td>Frankenstein</td>\n",
       "      <td>£38.00</td>\n",
       "      <td>Two</td>\n",
       "      <td>In stock</td>\n",
       "      <td>https://books.toscrape.com/catalogue/frankenst...</td>\n",
       "    </tr>\n",
       "    <tr>\n",
       "      <th>1</th>\n",
       "      <td>Forever Rockers (The Rocker #12)</td>\n",
       "      <td>£28.80</td>\n",
       "      <td>Three</td>\n",
       "      <td>In stock</td>\n",
       "      <td>https://books.toscrape.com/catalogue/forever-r...</td>\n",
       "    </tr>\n",
       "    <tr>\n",
       "      <th>2</th>\n",
       "      <td>Fighting Fate (Fighting #6)</td>\n",
       "      <td>£39.24</td>\n",
       "      <td>Three</td>\n",
       "      <td>In stock</td>\n",
       "      <td>https://books.toscrape.com/catalogue/fighting-...</td>\n",
       "    </tr>\n",
       "    <tr>\n",
       "      <th>3</th>\n",
       "      <td>Emma</td>\n",
       "      <td>£32.93</td>\n",
       "      <td>Two</td>\n",
       "      <td>In stock</td>\n",
       "      <td>https://books.toscrape.com/catalogue/emma_17/i...</td>\n",
       "    </tr>\n",
       "    <tr>\n",
       "      <th>4</th>\n",
       "      <td>Eat, Pray, Love</td>\n",
       "      <td>£51.32</td>\n",
       "      <td>Three</td>\n",
       "      <td>In stock</td>\n",
       "      <td>https://books.toscrape.com/catalogue/eat-pray-...</td>\n",
       "    </tr>\n",
       "    <tr>\n",
       "      <th>5</th>\n",
       "      <td>Deep Under (Walker Security #1)</td>\n",
       "      <td>£47.09</td>\n",
       "      <td>Five</td>\n",
       "      <td>In stock</td>\n",
       "      <td>https://books.toscrape.com/catalogue/deep-unde...</td>\n",
       "    </tr>\n",
       "    <tr>\n",
       "      <th>6</th>\n",
       "      <td>Choosing Our Religion: The Spiritual Lives of ...</td>\n",
       "      <td>£28.42</td>\n",
       "      <td>Four</td>\n",
       "      <td>In stock</td>\n",
       "      <td>https://books.toscrape.com/catalogue/choosing-...</td>\n",
       "    </tr>\n",
       "    <tr>\n",
       "      <th>7</th>\n",
       "      <td>Charlie and the Chocolate Factory (Charlie Buc...</td>\n",
       "      <td>£22.85</td>\n",
       "      <td>Three</td>\n",
       "      <td>In stock</td>\n",
       "      <td>https://books.toscrape.com/catalogue/charlie-a...</td>\n",
       "    </tr>\n",
       "    <tr>\n",
       "      <th>8</th>\n",
       "      <td>Charity's Cross (Charles Towne Belles #4)</td>\n",
       "      <td>£41.24</td>\n",
       "      <td>One</td>\n",
       "      <td>In stock</td>\n",
       "      <td>https://books.toscrape.com/catalogue/charitys-...</td>\n",
       "    </tr>\n",
       "    <tr>\n",
       "      <th>9</th>\n",
       "      <td>Bright Lines</td>\n",
       "      <td>£39.07</td>\n",
       "      <td>Five</td>\n",
       "      <td>In stock</td>\n",
       "      <td>https://books.toscrape.com/catalogue/bright-li...</td>\n",
       "    </tr>\n",
       "    <tr>\n",
       "      <th>10</th>\n",
       "      <td>Bridget Jones's Diary (Bridget Jones #1)</td>\n",
       "      <td>£29.82</td>\n",
       "      <td>One</td>\n",
       "      <td>In stock</td>\n",
       "      <td>https://books.toscrape.com/catalogue/bridget-j...</td>\n",
       "    </tr>\n",
       "    <tr>\n",
       "      <th>11</th>\n",
       "      <td>Bounty (Colorado Mountain #7)</td>\n",
       "      <td>£37.26</td>\n",
       "      <td>Four</td>\n",
       "      <td>In stock</td>\n",
       "      <td>https://books.toscrape.com/catalogue/bounty-co...</td>\n",
       "    </tr>\n",
       "    <tr>\n",
       "      <th>12</th>\n",
       "      <td>Blood Defense (Samantha Brinkman #1)</td>\n",
       "      <td>£20.30</td>\n",
       "      <td>Three</td>\n",
       "      <td>In stock</td>\n",
       "      <td>https://books.toscrape.com/catalogue/blood-def...</td>\n",
       "    </tr>\n",
       "    <tr>\n",
       "      <th>13</th>\n",
       "      <td>Bleach, Vol. 1: Strawberry and the Soul Reaper...</td>\n",
       "      <td>£34.65</td>\n",
       "      <td>Five</td>\n",
       "      <td>In stock</td>\n",
       "      <td>https://books.toscrape.com/catalogue/bleach-vo...</td>\n",
       "    </tr>\n",
       "    <tr>\n",
       "      <th>14</th>\n",
       "      <td>Beyond Good and Evil</td>\n",
       "      <td>£43.38</td>\n",
       "      <td>One</td>\n",
       "      <td>In stock</td>\n",
       "      <td>https://books.toscrape.com/catalogue/beyond-go...</td>\n",
       "    </tr>\n",
       "    <tr>\n",
       "      <th>15</th>\n",
       "      <td>Alice in Wonderland (Alice's Adventures in Won...</td>\n",
       "      <td>£55.53</td>\n",
       "      <td>One</td>\n",
       "      <td>In stock</td>\n",
       "      <td>https://books.toscrape.com/catalogue/alice-in-...</td>\n",
       "    </tr>\n",
       "    <tr>\n",
       "      <th>16</th>\n",
       "      <td>Ajin: Demi-Human, Volume 1 (Ajin: Demi-Human #1)</td>\n",
       "      <td>£57.06</td>\n",
       "      <td>Four</td>\n",
       "      <td>In stock</td>\n",
       "      <td>https://books.toscrape.com/catalogue/ajin-demi...</td>\n",
       "    </tr>\n",
       "    <tr>\n",
       "      <th>17</th>\n",
       "      <td>A Spy's Devotion (The Regency Spies of London #1)</td>\n",
       "      <td>£16.97</td>\n",
       "      <td>Five</td>\n",
       "      <td>In stock</td>\n",
       "      <td>https://books.toscrape.com/catalogue/a-spys-de...</td>\n",
       "    </tr>\n",
       "    <tr>\n",
       "      <th>18</th>\n",
       "      <td>1st to Die (Women's Murder Club #1)</td>\n",
       "      <td>£53.98</td>\n",
       "      <td>One</td>\n",
       "      <td>In stock</td>\n",
       "      <td>https://books.toscrape.com/catalogue/1st-to-di...</td>\n",
       "    </tr>\n",
       "    <tr>\n",
       "      <th>19</th>\n",
       "      <td>1,000 Places to See Before You Die</td>\n",
       "      <td>£26.08</td>\n",
       "      <td>Five</td>\n",
       "      <td>In stock</td>\n",
       "      <td>https://books.toscrape.com/catalogue/1000-plac...</td>\n",
       "    </tr>\n",
       "  </tbody>\n",
       "</table>\n",
       "</div>"
      ],
      "text/plain": [
       "                                                Title   Price Rating  \\\n",
       "0                                        Frankenstein  £38.00    Two   \n",
       "1                    Forever Rockers (The Rocker #12)  £28.80  Three   \n",
       "2                         Fighting Fate (Fighting #6)  £39.24  Three   \n",
       "3                                                Emma  £32.93    Two   \n",
       "4                                     Eat, Pray, Love  £51.32  Three   \n",
       "5                     Deep Under (Walker Security #1)  £47.09   Five   \n",
       "6   Choosing Our Religion: The Spiritual Lives of ...  £28.42   Four   \n",
       "7   Charlie and the Chocolate Factory (Charlie Buc...  £22.85  Three   \n",
       "8           Charity's Cross (Charles Towne Belles #4)  £41.24    One   \n",
       "9                                        Bright Lines  £39.07   Five   \n",
       "10           Bridget Jones's Diary (Bridget Jones #1)  £29.82    One   \n",
       "11                      Bounty (Colorado Mountain #7)  £37.26   Four   \n",
       "12               Blood Defense (Samantha Brinkman #1)  £20.30  Three   \n",
       "13  Bleach, Vol. 1: Strawberry and the Soul Reaper...  £34.65   Five   \n",
       "14                               Beyond Good and Evil  £43.38    One   \n",
       "15  Alice in Wonderland (Alice's Adventures in Won...  £55.53    One   \n",
       "16   Ajin: Demi-Human, Volume 1 (Ajin: Demi-Human #1)  £57.06   Four   \n",
       "17  A Spy's Devotion (The Regency Spies of London #1)  £16.97   Five   \n",
       "18                1st to Die (Women's Murder Club #1)  £53.98    One   \n",
       "19                 1,000 Places to See Before You Die  £26.08   Five   \n",
       "\n",
       "   Availability                                               Link  \n",
       "0      In stock  https://books.toscrape.com/catalogue/frankenst...  \n",
       "1      In stock  https://books.toscrape.com/catalogue/forever-r...  \n",
       "2      In stock  https://books.toscrape.com/catalogue/fighting-...  \n",
       "3      In stock  https://books.toscrape.com/catalogue/emma_17/i...  \n",
       "4      In stock  https://books.toscrape.com/catalogue/eat-pray-...  \n",
       "5      In stock  https://books.toscrape.com/catalogue/deep-unde...  \n",
       "6      In stock  https://books.toscrape.com/catalogue/choosing-...  \n",
       "7      In stock  https://books.toscrape.com/catalogue/charlie-a...  \n",
       "8      In stock  https://books.toscrape.com/catalogue/charitys-...  \n",
       "9      In stock  https://books.toscrape.com/catalogue/bright-li...  \n",
       "10     In stock  https://books.toscrape.com/catalogue/bridget-j...  \n",
       "11     In stock  https://books.toscrape.com/catalogue/bounty-co...  \n",
       "12     In stock  https://books.toscrape.com/catalogue/blood-def...  \n",
       "13     In stock  https://books.toscrape.com/catalogue/bleach-vo...  \n",
       "14     In stock  https://books.toscrape.com/catalogue/beyond-go...  \n",
       "15     In stock  https://books.toscrape.com/catalogue/alice-in-...  \n",
       "16     In stock  https://books.toscrape.com/catalogue/ajin-demi...  \n",
       "17     In stock  https://books.toscrape.com/catalogue/a-spys-de...  \n",
       "18     In stock  https://books.toscrape.com/catalogue/1st-to-di...  \n",
       "19     In stock  https://books.toscrape.com/catalogue/1000-plac...  "
      ]
     },
     "execution_count": 12,
     "metadata": {},
     "output_type": "execute_result"
    }
   ],
   "source": [
    "df.head(20)"
   ]
  },
  {
   "cell_type": "markdown",
   "metadata": {},
   "source": [
    "### Save dataset to csv "
   ]
  },
  {
   "cell_type": "code",
   "execution_count": 13,
   "metadata": {},
   "outputs": [],
   "source": [
    "df.to_csv('books_data.csv', index=False)\n"
   ]
  },
  {
   "cell_type": "markdown",
   "metadata": {},
   "source": [
    "# EDA"
   ]
  },
  {
   "cell_type": "code",
   "execution_count": 14,
   "metadata": {},
   "outputs": [],
   "source": [
    "df = pd.read_csv(\"books_data.csv\")"
   ]
  },
  {
   "cell_type": "code",
   "execution_count": 15,
   "metadata": {},
   "outputs": [
    {
     "data": {
      "text/plain": [
       "(20, 5)"
      ]
     },
     "execution_count": 15,
     "metadata": {},
     "output_type": "execute_result"
    }
   ],
   "source": [
    "df.shape"
   ]
  },
  {
   "cell_type": "code",
   "execution_count": 16,
   "metadata": {},
   "outputs": [
    {
     "data": {
      "text/plain": [
       "Index(['Title', 'Price', 'Rating', 'Availability', 'Link'], dtype='object')"
      ]
     },
     "execution_count": 16,
     "metadata": {},
     "output_type": "execute_result"
    }
   ],
   "source": [
    "df.columns"
   ]
  },
  {
   "cell_type": "code",
   "execution_count": 17,
   "metadata": {},
   "outputs": [
    {
     "data": {
      "text/plain": [
       "Title           object\n",
       "Price           object\n",
       "Rating          object\n",
       "Availability    object\n",
       "Link            object\n",
       "dtype: object"
      ]
     },
     "execution_count": 17,
     "metadata": {},
     "output_type": "execute_result"
    }
   ],
   "source": [
    "df.dtypes"
   ]
  },
  {
   "cell_type": "markdown",
   "metadata": {},
   "source": [
    "### Remove the '£' symbol and convert the price variable to float"
   ]
  },
  {
   "cell_type": "code",
   "execution_count": 18,
   "metadata": {},
   "outputs": [
    {
     "data": {
      "text/html": [
       "<div>\n",
       "<style scoped>\n",
       "    .dataframe tbody tr th:only-of-type {\n",
       "        vertical-align: middle;\n",
       "    }\n",
       "\n",
       "    .dataframe tbody tr th {\n",
       "        vertical-align: top;\n",
       "    }\n",
       "\n",
       "    .dataframe thead th {\n",
       "        text-align: right;\n",
       "    }\n",
       "</style>\n",
       "<table border=\"1\" class=\"dataframe\">\n",
       "  <thead>\n",
       "    <tr style=\"text-align: right;\">\n",
       "      <th></th>\n",
       "      <th>Title</th>\n",
       "      <th>Price</th>\n",
       "      <th>Rating</th>\n",
       "      <th>Availability</th>\n",
       "      <th>Link</th>\n",
       "    </tr>\n",
       "  </thead>\n",
       "  <tbody>\n",
       "    <tr>\n",
       "      <th>0</th>\n",
       "      <td>Frankenstein</td>\n",
       "      <td>38.00</td>\n",
       "      <td>Two</td>\n",
       "      <td>In stock</td>\n",
       "      <td>https://books.toscrape.com/catalogue/frankenst...</td>\n",
       "    </tr>\n",
       "    <tr>\n",
       "      <th>1</th>\n",
       "      <td>Forever Rockers (The Rocker #12)</td>\n",
       "      <td>28.80</td>\n",
       "      <td>Three</td>\n",
       "      <td>In stock</td>\n",
       "      <td>https://books.toscrape.com/catalogue/forever-r...</td>\n",
       "    </tr>\n",
       "    <tr>\n",
       "      <th>2</th>\n",
       "      <td>Fighting Fate (Fighting #6)</td>\n",
       "      <td>39.24</td>\n",
       "      <td>Three</td>\n",
       "      <td>In stock</td>\n",
       "      <td>https://books.toscrape.com/catalogue/fighting-...</td>\n",
       "    </tr>\n",
       "    <tr>\n",
       "      <th>3</th>\n",
       "      <td>Emma</td>\n",
       "      <td>32.93</td>\n",
       "      <td>Two</td>\n",
       "      <td>In stock</td>\n",
       "      <td>https://books.toscrape.com/catalogue/emma_17/i...</td>\n",
       "    </tr>\n",
       "    <tr>\n",
       "      <th>4</th>\n",
       "      <td>Eat, Pray, Love</td>\n",
       "      <td>51.32</td>\n",
       "      <td>Three</td>\n",
       "      <td>In stock</td>\n",
       "      <td>https://books.toscrape.com/catalogue/eat-pray-...</td>\n",
       "    </tr>\n",
       "    <tr>\n",
       "      <th>5</th>\n",
       "      <td>Deep Under (Walker Security #1)</td>\n",
       "      <td>47.09</td>\n",
       "      <td>Five</td>\n",
       "      <td>In stock</td>\n",
       "      <td>https://books.toscrape.com/catalogue/deep-unde...</td>\n",
       "    </tr>\n",
       "    <tr>\n",
       "      <th>6</th>\n",
       "      <td>Choosing Our Religion: The Spiritual Lives of ...</td>\n",
       "      <td>28.42</td>\n",
       "      <td>Four</td>\n",
       "      <td>In stock</td>\n",
       "      <td>https://books.toscrape.com/catalogue/choosing-...</td>\n",
       "    </tr>\n",
       "    <tr>\n",
       "      <th>7</th>\n",
       "      <td>Charlie and the Chocolate Factory (Charlie Buc...</td>\n",
       "      <td>22.85</td>\n",
       "      <td>Three</td>\n",
       "      <td>In stock</td>\n",
       "      <td>https://books.toscrape.com/catalogue/charlie-a...</td>\n",
       "    </tr>\n",
       "    <tr>\n",
       "      <th>8</th>\n",
       "      <td>Charity's Cross (Charles Towne Belles #4)</td>\n",
       "      <td>41.24</td>\n",
       "      <td>One</td>\n",
       "      <td>In stock</td>\n",
       "      <td>https://books.toscrape.com/catalogue/charitys-...</td>\n",
       "    </tr>\n",
       "    <tr>\n",
       "      <th>9</th>\n",
       "      <td>Bright Lines</td>\n",
       "      <td>39.07</td>\n",
       "      <td>Five</td>\n",
       "      <td>In stock</td>\n",
       "      <td>https://books.toscrape.com/catalogue/bright-li...</td>\n",
       "    </tr>\n",
       "    <tr>\n",
       "      <th>10</th>\n",
       "      <td>Bridget Jones's Diary (Bridget Jones #1)</td>\n",
       "      <td>29.82</td>\n",
       "      <td>One</td>\n",
       "      <td>In stock</td>\n",
       "      <td>https://books.toscrape.com/catalogue/bridget-j...</td>\n",
       "    </tr>\n",
       "    <tr>\n",
       "      <th>11</th>\n",
       "      <td>Bounty (Colorado Mountain #7)</td>\n",
       "      <td>37.26</td>\n",
       "      <td>Four</td>\n",
       "      <td>In stock</td>\n",
       "      <td>https://books.toscrape.com/catalogue/bounty-co...</td>\n",
       "    </tr>\n",
       "    <tr>\n",
       "      <th>12</th>\n",
       "      <td>Blood Defense (Samantha Brinkman #1)</td>\n",
       "      <td>20.30</td>\n",
       "      <td>Three</td>\n",
       "      <td>In stock</td>\n",
       "      <td>https://books.toscrape.com/catalogue/blood-def...</td>\n",
       "    </tr>\n",
       "    <tr>\n",
       "      <th>13</th>\n",
       "      <td>Bleach, Vol. 1: Strawberry and the Soul Reaper...</td>\n",
       "      <td>34.65</td>\n",
       "      <td>Five</td>\n",
       "      <td>In stock</td>\n",
       "      <td>https://books.toscrape.com/catalogue/bleach-vo...</td>\n",
       "    </tr>\n",
       "    <tr>\n",
       "      <th>14</th>\n",
       "      <td>Beyond Good and Evil</td>\n",
       "      <td>43.38</td>\n",
       "      <td>One</td>\n",
       "      <td>In stock</td>\n",
       "      <td>https://books.toscrape.com/catalogue/beyond-go...</td>\n",
       "    </tr>\n",
       "    <tr>\n",
       "      <th>15</th>\n",
       "      <td>Alice in Wonderland (Alice's Adventures in Won...</td>\n",
       "      <td>55.53</td>\n",
       "      <td>One</td>\n",
       "      <td>In stock</td>\n",
       "      <td>https://books.toscrape.com/catalogue/alice-in-...</td>\n",
       "    </tr>\n",
       "    <tr>\n",
       "      <th>16</th>\n",
       "      <td>Ajin: Demi-Human, Volume 1 (Ajin: Demi-Human #1)</td>\n",
       "      <td>57.06</td>\n",
       "      <td>Four</td>\n",
       "      <td>In stock</td>\n",
       "      <td>https://books.toscrape.com/catalogue/ajin-demi...</td>\n",
       "    </tr>\n",
       "    <tr>\n",
       "      <th>17</th>\n",
       "      <td>A Spy's Devotion (The Regency Spies of London #1)</td>\n",
       "      <td>16.97</td>\n",
       "      <td>Five</td>\n",
       "      <td>In stock</td>\n",
       "      <td>https://books.toscrape.com/catalogue/a-spys-de...</td>\n",
       "    </tr>\n",
       "    <tr>\n",
       "      <th>18</th>\n",
       "      <td>1st to Die (Women's Murder Club #1)</td>\n",
       "      <td>53.98</td>\n",
       "      <td>One</td>\n",
       "      <td>In stock</td>\n",
       "      <td>https://books.toscrape.com/catalogue/1st-to-di...</td>\n",
       "    </tr>\n",
       "    <tr>\n",
       "      <th>19</th>\n",
       "      <td>1,000 Places to See Before You Die</td>\n",
       "      <td>26.08</td>\n",
       "      <td>Five</td>\n",
       "      <td>In stock</td>\n",
       "      <td>https://books.toscrape.com/catalogue/1000-plac...</td>\n",
       "    </tr>\n",
       "  </tbody>\n",
       "</table>\n",
       "</div>"
      ],
      "text/plain": [
       "                                                Title  Price Rating  \\\n",
       "0                                        Frankenstein  38.00    Two   \n",
       "1                    Forever Rockers (The Rocker #12)  28.80  Three   \n",
       "2                         Fighting Fate (Fighting #6)  39.24  Three   \n",
       "3                                                Emma  32.93    Two   \n",
       "4                                     Eat, Pray, Love  51.32  Three   \n",
       "5                     Deep Under (Walker Security #1)  47.09   Five   \n",
       "6   Choosing Our Religion: The Spiritual Lives of ...  28.42   Four   \n",
       "7   Charlie and the Chocolate Factory (Charlie Buc...  22.85  Three   \n",
       "8           Charity's Cross (Charles Towne Belles #4)  41.24    One   \n",
       "9                                        Bright Lines  39.07   Five   \n",
       "10           Bridget Jones's Diary (Bridget Jones #1)  29.82    One   \n",
       "11                      Bounty (Colorado Mountain #7)  37.26   Four   \n",
       "12               Blood Defense (Samantha Brinkman #1)  20.30  Three   \n",
       "13  Bleach, Vol. 1: Strawberry and the Soul Reaper...  34.65   Five   \n",
       "14                               Beyond Good and Evil  43.38    One   \n",
       "15  Alice in Wonderland (Alice's Adventures in Won...  55.53    One   \n",
       "16   Ajin: Demi-Human, Volume 1 (Ajin: Demi-Human #1)  57.06   Four   \n",
       "17  A Spy's Devotion (The Regency Spies of London #1)  16.97   Five   \n",
       "18                1st to Die (Women's Murder Club #1)  53.98    One   \n",
       "19                 1,000 Places to See Before You Die  26.08   Five   \n",
       "\n",
       "   Availability                                               Link  \n",
       "0      In stock  https://books.toscrape.com/catalogue/frankenst...  \n",
       "1      In stock  https://books.toscrape.com/catalogue/forever-r...  \n",
       "2      In stock  https://books.toscrape.com/catalogue/fighting-...  \n",
       "3      In stock  https://books.toscrape.com/catalogue/emma_17/i...  \n",
       "4      In stock  https://books.toscrape.com/catalogue/eat-pray-...  \n",
       "5      In stock  https://books.toscrape.com/catalogue/deep-unde...  \n",
       "6      In stock  https://books.toscrape.com/catalogue/choosing-...  \n",
       "7      In stock  https://books.toscrape.com/catalogue/charlie-a...  \n",
       "8      In stock  https://books.toscrape.com/catalogue/charitys-...  \n",
       "9      In stock  https://books.toscrape.com/catalogue/bright-li...  \n",
       "10     In stock  https://books.toscrape.com/catalogue/bridget-j...  \n",
       "11     In stock  https://books.toscrape.com/catalogue/bounty-co...  \n",
       "12     In stock  https://books.toscrape.com/catalogue/blood-def...  \n",
       "13     In stock  https://books.toscrape.com/catalogue/bleach-vo...  \n",
       "14     In stock  https://books.toscrape.com/catalogue/beyond-go...  \n",
       "15     In stock  https://books.toscrape.com/catalogue/alice-in-...  \n",
       "16     In stock  https://books.toscrape.com/catalogue/ajin-demi...  \n",
       "17     In stock  https://books.toscrape.com/catalogue/a-spys-de...  \n",
       "18     In stock  https://books.toscrape.com/catalogue/1st-to-di...  \n",
       "19     In stock  https://books.toscrape.com/catalogue/1000-plac...  "
      ]
     },
     "execution_count": 18,
     "metadata": {},
     "output_type": "execute_result"
    }
   ],
   "source": [
    "df['Price'] = df['Price'].replace(r'[£,]', '', regex=True).astype(float)\n",
    "df"
   ]
  },
  {
   "cell_type": "code",
   "execution_count": 19,
   "metadata": {},
   "outputs": [
    {
     "data": {
      "text/plain": [
       "Title            object\n",
       "Price           float64\n",
       "Rating           object\n",
       "Availability     object\n",
       "Link             object\n",
       "dtype: object"
      ]
     },
     "execution_count": 19,
     "metadata": {},
     "output_type": "execute_result"
    }
   ],
   "source": [
    "df.dtypes"
   ]
  },
  {
   "cell_type": "code",
   "execution_count": 20,
   "metadata": {},
   "outputs": [
    {
     "name": "stdout",
     "output_type": "stream",
     "text": [
      "\n",
      "Missing values per column:\n",
      "Title           0\n",
      "Price           0\n",
      "Rating          0\n",
      "Availability    0\n",
      "Link            0\n",
      "dtype: int64\n"
     ]
    }
   ],
   "source": [
    "print(\"\\nMissing values per column:\")\n",
    "print(df.isnull().sum())"
   ]
  },
  {
   "cell_type": "markdown",
   "metadata": {},
   "source": [
    "## Univariate analysis"
   ]
  },
  {
   "cell_type": "markdown",
   "metadata": {},
   "source": [
    "### Numerical continuous variable, \"Price\" :"
   ]
  },
  {
   "cell_type": "code",
   "execution_count": 21,
   "metadata": {},
   "outputs": [
    {
     "name": "stdout",
     "output_type": "stream",
     "text": [
      "Number of outliers in 'Price': 0\n",
      "\n",
      "Outlier prices:\n",
      "count    0.0\n",
      "mean     NaN\n",
      "std      NaN\n",
      "min      NaN\n",
      "25%      NaN\n",
      "50%      NaN\n",
      "75%      NaN\n",
      "max      NaN\n",
      "Name: Price, dtype: float64\n"
     ]
    }
   ],
   "source": [
    "Q1 = df['Price'].quantile(0.25)\n",
    "Q3 = df['Price'].quantile(0.75)\n",
    "IQR = Q3 - Q1\n",
    "\n",
    "lower_bound = Q1 - 1.5 * IQR\n",
    "upper_bound = Q3 + 1.5 * IQR\n",
    "\n",
    "outliers = df[(df['Price'] < lower_bound) | (df['Price'] > upper_bound)]\n",
    "print(f\"Number of outliers in 'Price': {len(outliers)}\")\n",
    "\n",
    "print(\"\\nOutlier prices:\")\n",
    "print(outliers['Price'].describe())\n",
    "\n",
    "#  Remove outliers\n",
    "df_cleaned = df[(df['Price'] >= lower_bound) & (df['Price'] <= upper_bound)]"
   ]
  },
  {
   "cell_type": "code",
   "execution_count": 22,
   "metadata": {},
   "outputs": [
    {
     "data": {
      "image/png": "[encoded data removed]",
      "text/plain": [
       "<Figure size 1000x600 with 1 Axes>"
      ]
     },
     "metadata": {},
     "output_type": "display_data"
    }
   ],
   "source": [
    "plt.figure(figsize=(10, 6))\n",
    "sns.boxplot(x=df['Price'])\n",
    "plt.title('Price Boxplot)')\n",
    "plt.xlabel('Price')\n",
    "plt.show()"
   ]
  },
  {
   "cell_type": "code",
   "execution_count": 23,
   "metadata": {},
   "outputs": [
    {
     "data": {
      "image/png": "[encoded data removed]",
      "text/plain": [
       "<Figure size 1200x600 with 1 Axes>"
      ]
     },
     "metadata": {},
     "output_type": "display_data"
    }
   ],
   "source": [
    "plt.figure(figsize=(12, 6))\n",
    "sns.histplot(df_cleaned['Price'], bins=50, kde=True)\n",
    "plt.title('Price Distribution (After Capping Outliers)')\n",
    "plt.xlabel('Price')\n",
    "plt.ylabel('Frequency')\n",
    "\n",
    "plt.show()"
   ]
  },
  {
   "cell_type": "markdown",
   "metadata": {},
   "source": [
    "### Categorical Variable, \"Rating\" :"
   ]
  },
  {
   "cell_type": "code",
   "execution_count": null,
   "metadata": {},
   "outputs": [
    {
     "data": {
      "image/png": "[encoded data removed]",
      "text/plain": [
       "<Figure size 800x800 with 1 Axes>"
      ]
     },
     "metadata": {},
     "output_type": "display_data"
    }
   ],
   "source": [
    "rating_counts = df['Rating'].value_counts()\n",
    "\n",
    "plt.figure(figsize=(8, 8))\n",
    "rating_counts.plot.pie(autopct='%1.1f%%',cmap='Set3')\n",
    "plt.title('Pie Chart of Rating Distribution')\n",
    "plt.show()\n"
   ]
  },
  {
   "cell_type": "markdown",
   "metadata": {},
   "source": [
    "## Bivariate analysis"
   ]
  },
  {
   "cell_type": "markdown",
   "metadata": {},
   "source": [
    "### Continuous variable, \"price\" and categorical variable, \"rating\" :"
   ]
  },
  {
   "cell_type": "code",
   "execution_count": 25,
   "metadata": {},
   "outputs": [
    {
     "data": {
      "image/png": "[encoded data removed]",
      "text/plain": [
       "<Figure size 1000x600 with 1 Axes>"
      ]
     },
     "metadata": {},
     "output_type": "display_data"
    }
   ],
   "source": [
    "# Boxplot of Price by Rating\n",
    "plt.figure(figsize=(10, 6))\n",
    "sns.boxplot(x=df['Rating'], y=df['Price'], color=\"purple\")\n",
    "plt.title('Boxplot of Price by Rating')\n",
    "plt.xlabel('Rating')\n",
    "plt.ylabel('Price')\n",
    "plt.show()\n"
   ]
  },
  {
   "cell_type": "code",
   "execution_count": 26,
   "metadata": {},
   "outputs": [
    {
     "data": {
      "image/png": "[encoded data removed]",
      "text/plain": [
       "<Figure size 1000x600 with 1 Axes>"
      ]
     },
     "metadata": {},
     "output_type": "display_data"
    }
   ],
   "source": [
    "# Bar plot of mean Price per Rating\n",
    "plt.figure(figsize=(10, 6))\n",
    "sns.barplot(x=df['Rating'], y=df['Price'], color=\"pink\", errorbar=None)\n",
    "plt.title('Bar Plot of Mean Price by Rating')\n",
    "plt.xlabel('Rating')\n",
    "plt.ylabel('Mean Price')\n",
    "plt.show()"
   ]
  },
  {
   "cell_type": "markdown",
   "metadata": {},
   "source": [
    "### Save processed dataset to csv"
   ]
  },
  {
   "cell_type": "code",
   "execution_count": null,
   "metadata": {},
   "outputs": [],
   "source": [
    "df_cleaned.to_csv('processed_books_data.csv', index=False)"
   ]
  }
 ],
 "metadata": {
  "kernelspec": {
   "display_name": "Python 3",
   "language": "python",
   "name": "python3"
  },
  "language_info": {
   "codemirror_mode": {
    "name": "ipython",
    "version": 3
   },
   "file_extension": ".py",
   "mimetype": "text/x-python",
   "name": "python",
   "nbconvert_exporter": "python",
   "pygments_lexer": "ipython3",
   "version": "3.12.6"
  }
 },
 "nbformat": 4,
 "nbformat_minor": 2
}
